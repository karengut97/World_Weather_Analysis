{
 "cells": [
  {
   "cell_type": "markdown",
   "id": "83f16372",
   "metadata": {},
   "source": [
    "## 6.1.4"
   ]
  },
  {
   "cell_type": "code",
   "execution_count": 27,
   "id": "d3138701",
   "metadata": {},
   "outputs": [],
   "source": [
    "# Import the random module.\n",
    "import random"
   ]
  },
  {
   "cell_type": "markdown",
   "id": "c0c53fd9",
   "metadata": {},
   "source": [
    "### Testing randint( )"
   ]
  },
  {
   "cell_type": "code",
   "execution_count": 28,
   "id": "d54d5a4e",
   "metadata": {},
   "outputs": [
    {
     "data": {
      "text/plain": [
       "-45"
      ]
     },
     "execution_count": 28,
     "metadata": {},
     "output_type": "execute_result"
    }
   ],
   "source": [
    "random.randint(-90, 90)"
   ]
  },
  {
   "cell_type": "markdown",
   "id": "84410523",
   "metadata": {},
   "source": [
    "### Tesing random( )"
   ]
  },
  {
   "cell_type": "code",
   "execution_count": 29,
   "id": "b92bcf90",
   "metadata": {},
   "outputs": [
    {
     "data": {
      "text/plain": [
       "0.0881222260465222"
      ]
     },
     "execution_count": 29,
     "metadata": {},
     "output_type": "execute_result"
    }
   ],
   "source": [
    "random.random()"
   ]
  },
  {
   "cell_type": "markdown",
   "id": "89d8fa51",
   "metadata": {},
   "source": [
    "### Chain both"
   ]
  },
  {
   "cell_type": "code",
   "execution_count": 30,
   "id": "b836d5e7",
   "metadata": {},
   "outputs": [
    {
     "data": {
      "text/plain": [
       "-33.65006303839785"
      ]
     },
     "execution_count": 30,
     "metadata": {},
     "output_type": "execute_result"
    }
   ],
   "source": [
    "random_number = random.randint(-90, 89) + random.random()\n",
    "random_number"
   ]
  },
  {
   "cell_type": "markdown",
   "id": "034feef1",
   "metadata": {},
   "source": [
    "### Testing randrange( )"
   ]
  },
  {
   "cell_type": "code",
   "execution_count": 31,
   "id": "01da2006",
   "metadata": {},
   "outputs": [
    {
     "data": {
      "text/plain": [
       "47"
      ]
     },
     "execution_count": 31,
     "metadata": {},
     "output_type": "execute_result"
    }
   ],
   "source": [
    "random.randrange(-90, 90, step=1)"
   ]
  },
  {
   "cell_type": "code",
   "execution_count": 10,
   "id": "74ea51b7",
   "metadata": {},
   "outputs": [
    {
     "data": {
      "text/plain": [
       "-48"
      ]
     },
     "execution_count": 10,
     "metadata": {},
     "output_type": "execute_result"
    }
   ],
   "source": [
    "random.randrange(-90, 90, step=3)"
   ]
  },
  {
   "cell_type": "markdown",
   "id": "b783c94f",
   "metadata": {},
   "source": [
    "### Testing uniform( )"
   ]
  },
  {
   "cell_type": "code",
   "execution_count": 11,
   "id": "4bad0e86",
   "metadata": {},
   "outputs": [
    {
     "data": {
      "text/plain": [
       "-41.20606611943151"
      ]
     },
     "execution_count": 11,
     "metadata": {},
     "output_type": "execute_result"
    }
   ],
   "source": [
    "random.uniform(-90, 90)"
   ]
  },
  {
   "cell_type": "markdown",
   "id": "46edf2fd",
   "metadata": {},
   "source": [
    "## NumPy"
   ]
  },
  {
   "cell_type": "code",
   "execution_count": 13,
   "id": "c2bc2c3e",
   "metadata": {},
   "outputs": [],
   "source": [
    "# Import the NumPy module.\n",
    "import numpy as np"
   ]
  },
  {
   "cell_type": "code",
   "execution_count": 14,
   "id": "a36beaa2",
   "metadata": {},
   "outputs": [
    {
     "data": {
      "text/plain": [
       "71.04778080081414"
      ]
     },
     "execution_count": 14,
     "metadata": {},
     "output_type": "execute_result"
    }
   ],
   "source": [
    "np.random.uniform(-90.000, 90.000)"
   ]
  },
  {
   "cell_type": "code",
   "execution_count": 15,
   "id": "e230ab39",
   "metadata": {},
   "outputs": [
    {
     "data": {
      "text/plain": [
       "-74.47854803184835"
      ]
     },
     "execution_count": 15,
     "metadata": {},
     "output_type": "execute_result"
    }
   ],
   "source": [
    "np.random.uniform(low=-90, high=90)"
   ]
  },
  {
   "cell_type": "code",
   "execution_count": 16,
   "id": "ae5f1261",
   "metadata": {},
   "outputs": [
    {
     "data": {
      "text/plain": [
       "array([ 6.30972045e+01, -7.35000762e+01, -7.78917644e+01, -3.02632950e+01,\n",
       "        1.13670041e+00,  4.78491669e+01,  3.37921429e+01,  4.75674521e+01,\n",
       "       -6.28822079e+01,  4.71595412e+01,  1.56896936e+01,  3.83076320e+01,\n",
       "        1.23095057e+01, -2.53362836e+01, -7.53065773e+01, -1.03344698e+01,\n",
       "       -6.43323437e+01,  7.42556818e+01, -3.07374202e+01,  8.01726418e+01,\n",
       "        3.13261438e+01, -4.94605003e+01,  7.51280626e+01, -8.98673548e+01,\n",
       "        8.00302544e+01, -4.59410870e+01, -8.38710412e+01,  1.17245622e+01,\n",
       "        2.58331690e-02, -5.15534306e+01,  3.73650770e+01,  4.58709473e+01,\n",
       "       -3.68014844e+01,  2.83405134e+01, -1.40540064e+01, -6.40078389e+01,\n",
       "       -8.30212577e+01, -8.98327903e+01, -3.14396025e+01,  8.16436361e+01,\n",
       "        1.93973972e+01,  3.62409547e+01, -4.05109246e+01, -1.74413390e+01,\n",
       "       -3.51287171e+01,  8.48741183e+01,  7.44838988e+01, -6.67835462e+01,\n",
       "       -2.81415058e+01, -2.47313248e+01])"
      ]
     },
     "execution_count": 16,
     "metadata": {},
     "output_type": "execute_result"
    }
   ],
   "source": [
    "np.random.uniform(-90, 90, size=50)"
   ]
  },
  {
   "cell_type": "markdown",
   "id": "2367f887",
   "metadata": {},
   "source": [
    "### Timeit"
   ]
  },
  {
   "cell_type": "code",
   "execution_count": 19,
   "id": "9c262c98",
   "metadata": {},
   "outputs": [],
   "source": [
    "# Import timeit.\n",
    "import timeit"
   ]
  },
  {
   "cell_type": "code",
   "execution_count": 20,
   "id": "c23a7bd4",
   "metadata": {},
   "outputs": [
    {
     "name": "stdout",
     "output_type": "stream",
     "text": [
      "13.6 µs ± 5.61 ns per loop (mean ± std. dev. of 7 runs, 100000 loops each)\n"
     ]
    }
   ],
   "source": [
    "%timeit np.random.uniform(-90, 90, size=1500)"
   ]
  },
  {
   "cell_type": "code",
   "execution_count": 21,
   "id": "4442763a",
   "metadata": {},
   "outputs": [
    {
     "name": "stdout",
     "output_type": "stream",
     "text": [
      "1.15 ms ± 9.18 µs per loop (mean ± std. dev. of 7 runs, 1000 loops each)\n"
     ]
    }
   ],
   "source": [
    "def latitudes(size):\n",
    "    latitudes = []\n",
    "    x = 0\n",
    "    while x < (size):\n",
    "        random_lat = random.randint(-90, 90) + random.random()\n",
    "        latitudes.append(random_lat)\n",
    "        x += 1\n",
    "    return latitudes\n",
    "# Call the function with 1500.\n",
    "%timeit latitudes(1500)"
   ]
  },
  {
   "cell_type": "markdown",
   "id": "0bb0d1fb",
   "metadata": {},
   "source": [
    "## SKILL DRILL"
   ]
  },
  {
   "cell_type": "markdown",
   "id": "144440dc",
   "metadata": {},
   "source": [
    "### I had to modify (size) to have range in front of it to make it iterable."
   ]
  },
  {
   "cell_type": "code",
   "execution_count": 26,
   "id": "27258094",
   "metadata": {},
   "outputs": [
    {
     "name": "stdout",
     "output_type": "stream",
     "text": [
      "52.2 µs ± 372 ns per loop (mean ± std. dev. of 7 runs, 10000 loops each)\n"
     ]
    }
   ],
   "source": [
    "def latitudes(size):\n",
    "    latitudes = []\n",
    "    x = 0\n",
    "    for x in range(size):\n",
    "        if x > size:\n",
    "            random_lat = random.randint(-90, 90) + random.random()\n",
    "            latitudes.append(random_lat)\n",
    "            x += 1\n",
    "    return latitudes\n",
    "# Call the function with 1500.\n",
    "%timeit latitudes(1500)"
   ]
  },
  {
   "cell_type": "code",
   "execution_count": null,
   "id": "162b8f85",
   "metadata": {},
   "outputs": [],
   "source": []
  }
 ],
 "metadata": {
  "kernelspec": {
   "display_name": "PythonData",
   "language": "python",
   "name": "pythondata"
  },
  "language_info": {
   "codemirror_mode": {
    "name": "ipython",
    "version": 3
   },
   "file_extension": ".py",
   "mimetype": "text/x-python",
   "name": "python",
   "nbconvert_exporter": "python",
   "pygments_lexer": "ipython3",
   "version": "3.8.8"
  }
 },
 "nbformat": 4,
 "nbformat_minor": 5
}
